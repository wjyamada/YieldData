{
 "cells": [
  {
   "cell_type": "code",
   "execution_count": 1,
   "metadata": {},
   "outputs": [],
   "source": [
    "import pandas as pd\n",
    "import numpy as np\n",
    "import matplotlib.pyplot as plt\n",
    "import seaborn as sns\n",
    "import statsmodels.formula.api as smf\n",
    "from sklearn.linear_model import LinearRegression\n",
    "from sklearn import metrics\n",
    "%matplotlib inline"
   ]
  },
  {
   "cell_type": "code",
   "execution_count": 7,
   "metadata": {},
   "outputs": [
    {
     "data": {
      "text/html": [
       "<div>\n",
       "<style scoped>\n",
       "    .dataframe tbody tr th:only-of-type {\n",
       "        vertical-align: middle;\n",
       "    }\n",
       "\n",
       "    .dataframe tbody tr th {\n",
       "        vertical-align: top;\n",
       "    }\n",
       "\n",
       "    .dataframe thead th {\n",
       "        text-align: right;\n",
       "    }\n",
       "</style>\n",
       "<table border=\"1\" class=\"dataframe\">\n",
       "  <thead>\n",
       "    <tr style=\"text-align: right;\">\n",
       "      <th></th>\n",
       "      <th>Date</th>\n",
       "      <th>GCP</th>\n",
       "      <th>Northing</th>\n",
       "      <th>Easting</th>\n",
       "      <th>Elevation</th>\n",
       "      <th>Latitude DD.DD</th>\n",
       "      <th>Longitude DD.DD</th>\n",
       "      <th>Height</th>\n",
       "      <th>Yield</th>\n",
       "      <th>Moisture</th>\n",
       "      <th>Mean_NDVI</th>\n",
       "      <th>SD_NDVI</th>\n",
       "    </tr>\n",
       "  </thead>\n",
       "  <tbody>\n",
       "    <tr>\n",
       "      <td>0</td>\n",
       "      <td>5/28/2019</td>\n",
       "      <td>T1</td>\n",
       "      <td>3077.3726</td>\n",
       "      <td>3061.3572</td>\n",
       "      <td>33.7142</td>\n",
       "      <td>43.3149</td>\n",
       "      <td>-89.3330</td>\n",
       "      <td>0.48</td>\n",
       "      <td>3930</td>\n",
       "      <td>84.4</td>\n",
       "      <td>0.280772</td>\n",
       "      <td>0.045344</td>\n",
       "    </tr>\n",
       "    <tr>\n",
       "      <td>1</td>\n",
       "      <td>5/28/2019</td>\n",
       "      <td>T2</td>\n",
       "      <td>3137.4370</td>\n",
       "      <td>3060.6171</td>\n",
       "      <td>32.8211</td>\n",
       "      <td>43.3155</td>\n",
       "      <td>-89.3330</td>\n",
       "      <td>0.47</td>\n",
       "      <td>3088</td>\n",
       "      <td>85.4</td>\n",
       "      <td>0.280200</td>\n",
       "      <td>0.064424</td>\n",
       "    </tr>\n",
       "    <tr>\n",
       "      <td>2</td>\n",
       "      <td>5/28/2019</td>\n",
       "      <td>T3</td>\n",
       "      <td>3078.2725</td>\n",
       "      <td>2982.3921</td>\n",
       "      <td>34.7905</td>\n",
       "      <td>43.3150</td>\n",
       "      <td>-89.3340</td>\n",
       "      <td>0.42</td>\n",
       "      <td>3578</td>\n",
       "      <td>82.6</td>\n",
       "      <td>0.276925</td>\n",
       "      <td>0.059429</td>\n",
       "    </tr>\n",
       "    <tr>\n",
       "      <td>3</td>\n",
       "      <td>5/28/2019</td>\n",
       "      <td>T4</td>\n",
       "      <td>3137.5043</td>\n",
       "      <td>2986.0653</td>\n",
       "      <td>33.2757</td>\n",
       "      <td>43.3155</td>\n",
       "      <td>-89.3339</td>\n",
       "      <td>0.41</td>\n",
       "      <td>3972</td>\n",
       "      <td>86.7</td>\n",
       "      <td>0.300764</td>\n",
       "      <td>0.056162</td>\n",
       "    </tr>\n",
       "    <tr>\n",
       "      <td>4</td>\n",
       "      <td>5/28/2019</td>\n",
       "      <td>T5</td>\n",
       "      <td>3106.5656</td>\n",
       "      <td>3029.7739</td>\n",
       "      <td>33.4311</td>\n",
       "      <td>43.3152</td>\n",
       "      <td>-89.3334</td>\n",
       "      <td>0.46</td>\n",
       "      <td>3494</td>\n",
       "      <td>85.6</td>\n",
       "      <td>0.266040</td>\n",
       "      <td>0.045340</td>\n",
       "    </tr>\n",
       "    <tr>\n",
       "      <td>...</td>\n",
       "      <td>...</td>\n",
       "      <td>...</td>\n",
       "      <td>...</td>\n",
       "      <td>...</td>\n",
       "      <td>...</td>\n",
       "      <td>...</td>\n",
       "      <td>...</td>\n",
       "      <td>...</td>\n",
       "      <td>...</td>\n",
       "      <td>...</td>\n",
       "      <td>...</td>\n",
       "      <td>...</td>\n",
       "    </tr>\n",
       "    <tr>\n",
       "      <td>58</td>\n",
       "      <td>8/7/2019</td>\n",
       "      <td>T12</td>\n",
       "      <td>3152.4273</td>\n",
       "      <td>2972.1047</td>\n",
       "      <td>33.2224</td>\n",
       "      <td>43.3156</td>\n",
       "      <td>-89.3341</td>\n",
       "      <td>0.38</td>\n",
       "      <td>2531</td>\n",
       "      <td>86.5</td>\n",
       "      <td>0.335956</td>\n",
       "      <td>0.067358</td>\n",
       "    </tr>\n",
       "    <tr>\n",
       "      <td>59</td>\n",
       "      <td>8/7/2019</td>\n",
       "      <td>T13</td>\n",
       "      <td>3172.1663</td>\n",
       "      <td>3018.7459</td>\n",
       "      <td>32.8016</td>\n",
       "      <td>43.3158</td>\n",
       "      <td>-89.3335</td>\n",
       "      <td>0.53</td>\n",
       "      <td>4365</td>\n",
       "      <td>83.2</td>\n",
       "      <td>0.369593</td>\n",
       "      <td>0.087340</td>\n",
       "    </tr>\n",
       "    <tr>\n",
       "      <td>60</td>\n",
       "      <td>8/7/2019</td>\n",
       "      <td>T14</td>\n",
       "      <td>3202.7423</td>\n",
       "      <td>3065.9985</td>\n",
       "      <td>33.4185</td>\n",
       "      <td>43.3161</td>\n",
       "      <td>-89.3329</td>\n",
       "      <td>0.51</td>\n",
       "      <td>4196</td>\n",
       "      <td>82.7</td>\n",
       "      <td>0.292063</td>\n",
       "      <td>0.088576</td>\n",
       "    </tr>\n",
       "    <tr>\n",
       "      <td>61</td>\n",
       "      <td>8/7/2019</td>\n",
       "      <td>T15</td>\n",
       "      <td>3149.1993</td>\n",
       "      <td>3066.7250</td>\n",
       "      <td>32.7947</td>\n",
       "      <td>43.3156</td>\n",
       "      <td>-89.3329</td>\n",
       "      <td>0.37</td>\n",
       "      <td>3009</td>\n",
       "      <td>82.9</td>\n",
       "      <td>0.354037</td>\n",
       "      <td>0.076376</td>\n",
       "    </tr>\n",
       "    <tr>\n",
       "      <td>62</td>\n",
       "      <td>8/7/2019</td>\n",
       "      <td>T16</td>\n",
       "      <td>3130.9032</td>\n",
       "      <td>3065.9889</td>\n",
       "      <td>32.8687</td>\n",
       "      <td>43.3154</td>\n",
       "      <td>-89.3329</td>\n",
       "      <td>0.44</td>\n",
       "      <td>3312</td>\n",
       "      <td>84.6</td>\n",
       "      <td>0.344933</td>\n",
       "      <td>0.086464</td>\n",
       "    </tr>\n",
       "  </tbody>\n",
       "</table>\n",
       "<p>61 rows × 12 columns</p>\n",
       "</div>"
      ],
      "text/plain": [
       "         Date  GCP   Northing    Easting  Elevation  Latitude DD.DD  \\\n",
       "0   5/28/2019   T1  3077.3726  3061.3572    33.7142         43.3149   \n",
       "1   5/28/2019   T2  3137.4370  3060.6171    32.8211         43.3155   \n",
       "2   5/28/2019   T3  3078.2725  2982.3921    34.7905         43.3150   \n",
       "3   5/28/2019   T4  3137.5043  2986.0653    33.2757         43.3155   \n",
       "4   5/28/2019   T5  3106.5656  3029.7739    33.4311         43.3152   \n",
       "..        ...  ...        ...        ...        ...             ...   \n",
       "58   8/7/2019  T12  3152.4273  2972.1047    33.2224         43.3156   \n",
       "59   8/7/2019  T13  3172.1663  3018.7459    32.8016         43.3158   \n",
       "60   8/7/2019  T14  3202.7423  3065.9985    33.4185         43.3161   \n",
       "61   8/7/2019  T15  3149.1993  3066.7250    32.7947         43.3156   \n",
       "62   8/7/2019  T16  3130.9032  3065.9889    32.8687         43.3154   \n",
       "\n",
       "    Longitude DD.DD  Height  Yield  Moisture  Mean_NDVI   SD_NDVI  \n",
       "0          -89.3330    0.48   3930      84.4   0.280772  0.045344  \n",
       "1          -89.3330    0.47   3088      85.4   0.280200  0.064424  \n",
       "2          -89.3340    0.42   3578      82.6   0.276925  0.059429  \n",
       "3          -89.3339    0.41   3972      86.7   0.300764  0.056162  \n",
       "4          -89.3334    0.46   3494      85.6   0.266040  0.045340  \n",
       "..              ...     ...    ...       ...        ...       ...  \n",
       "58         -89.3341    0.38   2531      86.5   0.335956  0.067358  \n",
       "59         -89.3335    0.53   4365      83.2   0.369593  0.087340  \n",
       "60         -89.3329    0.51   4196      82.7   0.292063  0.088576  \n",
       "61         -89.3329    0.37   3009      82.9   0.354037  0.076376  \n",
       "62         -89.3329    0.44   3312      84.6   0.344933  0.086464  \n",
       "\n",
       "[61 rows x 12 columns]"
      ]
     },
     "execution_count": 7,
     "metadata": {},
     "output_type": "execute_result"
    }
   ],
   "source": [
    "# Read Data\n",
    "\n",
    "df = pd.read_csv(\"UWYieldDataNDVI.csv\")\n",
    "df['Moisture Content, w.b. %'] = df['Moisture Content, w.b. %'].str.rstrip('%').astype('float')\n",
    "df = df.drop(df[df['Mean_NDVI']==0].index).drop(df[df['Yield, kg DM/ha']>=6500].index)\n",
    "df = df.rename(columns={\"Crop Height, m\": \"Height\", \"Moisture Content, w.b. %\": \"Moisture\", \"Yield, kg DM/ha\":\"Yield\"})\n",
    "df"
   ]
  },
  {
   "cell_type": "code",
   "execution_count": 17,
   "metadata": {},
   "outputs": [],
   "source": [
    "df = df.drop(df.loc[df[\"Date\"]==\"6/3/2019\"].loc[df[\"GCP\"]==\"T1\"].index)\n",
    "df = df.drop(df.loc[df[\"Date\"]==\"5/28/2019\"].loc[df[\"GCP\"]==\"T1\"].index)\n",
    "df = df.drop(df.loc[df[\"Date\"]==\"5/28/2019\"].loc[df[\"GCP\"]==\"T3\"].index)\n",
    "df = df.drop(df.loc[df[\"Date\"]==\"5/28/2019\"].loc[df[\"GCP\"]==\"T5\"].index)\n",
    "df = df.drop(df.loc[df[\"Date\"]==\"6/3/2019\"].loc[df[\"GCP\"]==\"T5\"].index)\n",
    "df = df.drop(df.loc[df[\"Date\"]==\"5/28/2019\"].loc[df[\"GCP\"]==\"T10\"].index)\n",
    "df = df.drop(df.loc[df[\"Date\"]==\"8/7/2019\"].loc[df[\"GCP\"]==\"T10\"].index)\n",
    "df = df.drop(df.loc[df[\"Date\"]==\"7/8/2019\"].loc[df[\"GCP\"]==\"T12\"].index)\n",
    "df = df.drop(df.loc[df[\"Date\"]==\"5/28/2019\"].loc[df[\"GCP\"]==\"T12\"].index)\n",
    "df = df.drop(df.loc[df[\"Date\"]==\"8/7/2019\"].loc[df[\"GCP\"]==\"T12\"].index)\n",
    "df = df.drop(df.loc[df[\"Date\"]==\"6/3/2019\"].loc[df[\"GCP\"]==\"T13\"].index)\n",
    "df = df.drop(df.loc[df[\"Date\"]==\"5/28/2019\"].loc[df[\"GCP\"]==\"T14\"].index)"
   ]
  },
  {
   "cell_type": "markdown",
   "metadata": {},
   "source": [
    "Plotting the data"
   ]
  },
  {
   "cell_type": "code",
   "execution_count": 20,
   "metadata": {
    "scrolled": false
   },
   "outputs": [
    {
     "data": {
      "text/plain": [
       "<seaborn.axisgrid.PairGrid at 0x7f631048ff50>"
      ]
     },
     "execution_count": 20,
     "metadata": {},
     "output_type": "execute_result"
    },
    {
     "data": {
      "image/png": "[encoded data removed]",
      "text/plain": [
       "<Figure size 1411.2x504 with 4 Axes>"
      ]
     },
     "metadata": {
      "needs_background": "light"
     },
     "output_type": "display_data"
    }
   ],
   "source": [
    "var_interest = ['Height','Moisture','Mean_NDVI','SD_NDVI']\n",
    "sns.pairplot(df, x_vars= var_interest, y_vars='Yield', height=7, aspect=0.7)"
   ]
  },
  {
   "cell_type": "markdown",
   "metadata": {},
   "source": [
    "Plotting the data containing the 95% CI"
   ]
  },
  {
   "cell_type": "code",
   "execution_count": 21,
   "metadata": {
    "scrolled": false
   },
   "outputs": [
    {
     "data": {
      "text/plain": [
       "<seaborn.axisgrid.PairGrid at 0x7f630fc14a10>"
      ]
     },
     "execution_count": 21,
     "metadata": {},
     "output_type": "execute_result"
    },
    {
     "data": {
      "image/png": "[encoded data removed]",
      "text/plain": [
       "<Figure size 1411.2x504 with 4 Axes>"
      ]
     },
     "metadata": {
      "needs_background": "light"
     },
     "output_type": "display_data"
    }
   ],
   "source": [
    "sns.pairplot(df, x_vars=var_interest, y_vars='Yield', height=7, aspect=0.7, kind='reg')"
   ]
  },
  {
   "cell_type": "markdown",
   "metadata": {},
   "source": [
    "# Linear Model 1 (Mean NDVI + SD NDVI ~ Yield)\n",
    "Creating linear regression with Mean and SD from NDVI"
   ]
  },
  {
   "cell_type": "code",
   "execution_count": 22,
   "metadata": {},
   "outputs": [
    {
     "data": {
      "text/plain": [
       "Intercept      170.662548\n",
       "Mean_NDVI    16768.072528\n",
       "SD_NDVI     -22517.433705\n",
       "dtype: float64"
      ]
     },
     "execution_count": 22,
     "metadata": {},
     "output_type": "execute_result"
    }
   ],
   "source": [
    "### STATSMODELS ###\n",
    "\n",
    "# create a fitted model\n",
    "lm1 = smf.ols(formula='Yield ~ Mean_NDVI + SD_NDVI', data=df).fit()\n",
    "\n",
    "# print the coefficients\n",
    "lm1.params"
   ]
  },
  {
   "cell_type": "code",
   "execution_count": 23,
   "metadata": {},
   "outputs": [
    {
     "data": {
      "text/html": [
       "<table class=\"simpletable\">\n",
       "<caption>OLS Regression Results</caption>\n",
       "<tr>\n",
       "  <th>Dep. Variable:</th>          <td>Yield</td>      <th>  R-squared:         </th> <td>   0.517</td>\n",
       "</tr>\n",
       "<tr>\n",
       "  <th>Model:</th>                   <td>OLS</td>       <th>  Adj. R-squared:    </th> <td>   0.496</td>\n",
       "</tr>\n",
       "<tr>\n",
       "  <th>Method:</th>             <td>Least Squares</td>  <th>  F-statistic:       </th> <td>   24.60</td>\n",
       "</tr>\n",
       "<tr>\n",
       "  <th>Date:</th>             <td>Sun, 25 Oct 2020</td> <th>  Prob (F-statistic):</th> <td>5.42e-08</td>\n",
       "</tr>\n",
       "<tr>\n",
       "  <th>Time:</th>                 <td>10:33:29</td>     <th>  Log-Likelihood:    </th> <td> -382.43</td>\n",
       "</tr>\n",
       "<tr>\n",
       "  <th>No. Observations:</th>      <td>    49</td>      <th>  AIC:               </th> <td>   770.9</td>\n",
       "</tr>\n",
       "<tr>\n",
       "  <th>Df Residuals:</th>          <td>    46</td>      <th>  BIC:               </th> <td>   776.5</td>\n",
       "</tr>\n",
       "<tr>\n",
       "  <th>Df Model:</th>              <td>     2</td>      <th>                     </th>     <td> </td>   \n",
       "</tr>\n",
       "<tr>\n",
       "  <th>Covariance Type:</th>      <td>nonrobust</td>    <th>                     </th>     <td> </td>   \n",
       "</tr>\n",
       "</table>\n",
       "<table class=\"simpletable\">\n",
       "<tr>\n",
       "      <td></td>         <th>coef</th>     <th>std err</th>      <th>t</th>      <th>P>|t|</th>  <th>[0.025</th>    <th>0.975]</th>  \n",
       "</tr>\n",
       "<tr>\n",
       "  <th>Intercept</th> <td>  170.6625</td> <td> 1079.995</td> <td>    0.158</td> <td> 0.875</td> <td>-2003.254</td> <td> 2344.579</td>\n",
       "</tr>\n",
       "<tr>\n",
       "  <th>Mean_NDVI</th> <td> 1.677e+04</td> <td> 2659.422</td> <td>    6.305</td> <td> 0.000</td> <td> 1.14e+04</td> <td> 2.21e+04</td>\n",
       "</tr>\n",
       "<tr>\n",
       "  <th>SD_NDVI</th>   <td>-2.252e+04</td> <td> 7826.821</td> <td>   -2.877</td> <td> 0.006</td> <td>-3.83e+04</td> <td>-6762.859</td>\n",
       "</tr>\n",
       "</table>\n",
       "<table class=\"simpletable\">\n",
       "<tr>\n",
       "  <th>Omnibus:</th>       <td> 0.551</td> <th>  Durbin-Watson:     </th> <td>   1.996</td>\n",
       "</tr>\n",
       "<tr>\n",
       "  <th>Prob(Omnibus):</th> <td> 0.759</td> <th>  Jarque-Bera (JB):  </th> <td>   0.685</td>\n",
       "</tr>\n",
       "<tr>\n",
       "  <th>Skew:</th>          <td>-0.155</td> <th>  Prob(JB):          </th> <td>   0.710</td>\n",
       "</tr>\n",
       "<tr>\n",
       "  <th>Kurtosis:</th>      <td> 2.511</td> <th>  Cond. No.          </th> <td>    94.9</td>\n",
       "</tr>\n",
       "</table><br/><br/>Warnings:<br/>[1] Standard Errors assume that the covariance matrix of the errors is correctly specified."
      ],
      "text/plain": [
       "<class 'statsmodels.iolib.summary.Summary'>\n",
       "\"\"\"\n",
       "                            OLS Regression Results                            \n",
       "==============================================================================\n",
       "Dep. Variable:                  Yield   R-squared:                       0.517\n",
       "Model:                            OLS   Adj. R-squared:                  0.496\n",
       "Method:                 Least Squares   F-statistic:                     24.60\n",
       "Date:                Sun, 25 Oct 2020   Prob (F-statistic):           5.42e-08\n",
       "Time:                        10:33:29   Log-Likelihood:                -382.43\n",
       "No. Observations:                  49   AIC:                             770.9\n",
       "Df Residuals:                      46   BIC:                             776.5\n",
       "Df Model:                           2                                         \n",
       "Covariance Type:            nonrobust                                         \n",
       "==============================================================================\n",
       "                 coef    std err          t      P>|t|      [0.025      0.975]\n",
       "------------------------------------------------------------------------------\n",
       "Intercept    170.6625   1079.995      0.158      0.875   -2003.254    2344.579\n",
       "Mean_NDVI   1.677e+04   2659.422      6.305      0.000    1.14e+04    2.21e+04\n",
       "SD_NDVI    -2.252e+04   7826.821     -2.877      0.006   -3.83e+04   -6762.859\n",
       "==============================================================================\n",
       "Omnibus:                        0.551   Durbin-Watson:                   1.996\n",
       "Prob(Omnibus):                  0.759   Jarque-Bera (JB):                0.685\n",
       "Skew:                          -0.155   Prob(JB):                        0.710\n",
       "Kurtosis:                       2.511   Cond. No.                         94.9\n",
       "==============================================================================\n",
       "\n",
       "Warnings:\n",
       "[1] Standard Errors assume that the covariance matrix of the errors is correctly specified.\n",
       "\"\"\""
      ]
     },
     "execution_count": 23,
     "metadata": {},
     "output_type": "execute_result"
    }
   ],
   "source": [
    "lm1.summary()"
   ]
  },
  {
   "cell_type": "markdown",
   "metadata": {},
   "source": [
    "# Linear Model 2 (Height ~ Yield)\n",
    "\n",
    "Creating model with only Height to predict Yield"
   ]
  },
  {
   "cell_type": "code",
   "execution_count": 24,
   "metadata": {},
   "outputs": [
    {
     "data": {
      "text/plain": [
       "Intercept     587.108864\n",
       "Height       6696.336531\n",
       "dtype: float64"
      ]
     },
     "execution_count": 24,
     "metadata": {},
     "output_type": "execute_result"
    }
   ],
   "source": [
    "# create a fitted model\n",
    "lm2 = smf.ols(formula='Yield ~ Height', data=df).fit()\n",
    "\n",
    "# print the coefficients\n",
    "lm2.params"
   ]
  },
  {
   "cell_type": "code",
   "execution_count": 25,
   "metadata": {
    "scrolled": false
   },
   "outputs": [
    {
     "data": {
      "text/html": [
       "<table class=\"simpletable\">\n",
       "<caption>OLS Regression Results</caption>\n",
       "<tr>\n",
       "  <th>Dep. Variable:</th>          <td>Yield</td>      <th>  R-squared:         </th> <td>   0.754</td>\n",
       "</tr>\n",
       "<tr>\n",
       "  <th>Model:</th>                   <td>OLS</td>       <th>  Adj. R-squared:    </th> <td>   0.749</td>\n",
       "</tr>\n",
       "<tr>\n",
       "  <th>Method:</th>             <td>Least Squares</td>  <th>  F-statistic:       </th> <td>   144.1</td>\n",
       "</tr>\n",
       "<tr>\n",
       "  <th>Date:</th>             <td>Sun, 25 Oct 2020</td> <th>  Prob (F-statistic):</th> <td>6.43e-16</td>\n",
       "</tr>\n",
       "<tr>\n",
       "  <th>Time:</th>                 <td>10:33:34</td>     <th>  Log-Likelihood:    </th> <td> -365.89</td>\n",
       "</tr>\n",
       "<tr>\n",
       "  <th>No. Observations:</th>      <td>    49</td>      <th>  AIC:               </th> <td>   735.8</td>\n",
       "</tr>\n",
       "<tr>\n",
       "  <th>Df Residuals:</th>          <td>    47</td>      <th>  BIC:               </th> <td>   739.6</td>\n",
       "</tr>\n",
       "<tr>\n",
       "  <th>Df Model:</th>              <td>     1</td>      <th>                     </th>     <td> </td>   \n",
       "</tr>\n",
       "<tr>\n",
       "  <th>Covariance Type:</th>      <td>nonrobust</td>    <th>                     </th>     <td> </td>   \n",
       "</tr>\n",
       "</table>\n",
       "<table class=\"simpletable\">\n",
       "<tr>\n",
       "      <td></td>         <th>coef</th>     <th>std err</th>      <th>t</th>      <th>P>|t|</th>  <th>[0.025</th>    <th>0.975]</th>  \n",
       "</tr>\n",
       "<tr>\n",
       "  <th>Intercept</th> <td>  587.1089</td> <td>  299.607</td> <td>    1.960</td> <td> 0.056</td> <td>  -15.623</td> <td> 1189.840</td>\n",
       "</tr>\n",
       "<tr>\n",
       "  <th>Height</th>    <td> 6696.3365</td> <td>  557.884</td> <td>   12.003</td> <td> 0.000</td> <td> 5574.019</td> <td> 7818.654</td>\n",
       "</tr>\n",
       "</table>\n",
       "<table class=\"simpletable\">\n",
       "<tr>\n",
       "  <th>Omnibus:</th>       <td> 1.468</td> <th>  Durbin-Watson:     </th> <td>   1.857</td>\n",
       "</tr>\n",
       "<tr>\n",
       "  <th>Prob(Omnibus):</th> <td> 0.480</td> <th>  Jarque-Bera (JB):  </th> <td>   1.113</td>\n",
       "</tr>\n",
       "<tr>\n",
       "  <th>Skew:</th>          <td>-0.369</td> <th>  Prob(JB):          </th> <td>   0.573</td>\n",
       "</tr>\n",
       "<tr>\n",
       "  <th>Kurtosis:</th>      <td> 2.970</td> <th>  Cond. No.          </th> <td>    11.6</td>\n",
       "</tr>\n",
       "</table><br/><br/>Warnings:<br/>[1] Standard Errors assume that the covariance matrix of the errors is correctly specified."
      ],
      "text/plain": [
       "<class 'statsmodels.iolib.summary.Summary'>\n",
       "\"\"\"\n",
       "                            OLS Regression Results                            \n",
       "==============================================================================\n",
       "Dep. Variable:                  Yield   R-squared:                       0.754\n",
       "Model:                            OLS   Adj. R-squared:                  0.749\n",
       "Method:                 Least Squares   F-statistic:                     144.1\n",
       "Date:                Sun, 25 Oct 2020   Prob (F-statistic):           6.43e-16\n",
       "Time:                        10:33:34   Log-Likelihood:                -365.89\n",
       "No. Observations:                  49   AIC:                             735.8\n",
       "Df Residuals:                      47   BIC:                             739.6\n",
       "Df Model:                           1                                         \n",
       "Covariance Type:            nonrobust                                         \n",
       "==============================================================================\n",
       "                 coef    std err          t      P>|t|      [0.025      0.975]\n",
       "------------------------------------------------------------------------------\n",
       "Intercept    587.1089    299.607      1.960      0.056     -15.623    1189.840\n",
       "Height      6696.3365    557.884     12.003      0.000    5574.019    7818.654\n",
       "==============================================================================\n",
       "Omnibus:                        1.468   Durbin-Watson:                   1.857\n",
       "Prob(Omnibus):                  0.480   Jarque-Bera (JB):                1.113\n",
       "Skew:                          -0.369   Prob(JB):                        0.573\n",
       "Kurtosis:                       2.970   Cond. No.                         11.6\n",
       "==============================================================================\n",
       "\n",
       "Warnings:\n",
       "[1] Standard Errors assume that the covariance matrix of the errors is correctly specified.\n",
       "\"\"\""
      ]
     },
     "execution_count": 25,
     "metadata": {},
     "output_type": "execute_result"
    }
   ],
   "source": [
    "lm2.summary()"
   ]
  },
  {
   "cell_type": "markdown",
   "metadata": {},
   "source": [
    "# Linear Model 3 (Height + Mean_NDVI + SD_NDVI ~ Yield)\n",
    "\n",
    "Creating model with only Height to predict Yield"
   ]
  },
  {
   "cell_type": "code",
   "execution_count": 26,
   "metadata": {},
   "outputs": [
    {
     "data": {
      "text/plain": [
       "Intercept     333.070456\n",
       "Height       5720.041389\n",
       "Mean_NDVI    3800.407463\n",
       "SD_NDVI     -6787.941475\n",
       "dtype: float64"
      ]
     },
     "execution_count": 26,
     "metadata": {},
     "output_type": "execute_result"
    }
   ],
   "source": [
    "# create a fitted model\n",
    "lm3 = smf.ols(formula='Yield ~ Height + Mean_NDVI + SD_NDVI', data=df).fit()\n",
    "\n",
    "# print the coefficients\n",
    "lm3.params"
   ]
  },
  {
   "cell_type": "code",
   "execution_count": 27,
   "metadata": {
    "scrolled": false
   },
   "outputs": [
    {
     "data": {
      "text/html": [
       "<table class=\"simpletable\">\n",
       "<caption>OLS Regression Results</caption>\n",
       "<tr>\n",
       "  <th>Dep. Variable:</th>          <td>Yield</td>      <th>  R-squared:         </th> <td>   0.768</td>\n",
       "</tr>\n",
       "<tr>\n",
       "  <th>Model:</th>                   <td>OLS</td>       <th>  Adj. R-squared:    </th> <td>   0.753</td>\n",
       "</tr>\n",
       "<tr>\n",
       "  <th>Method:</th>             <td>Least Squares</td>  <th>  F-statistic:       </th> <td>   49.71</td>\n",
       "</tr>\n",
       "<tr>\n",
       "  <th>Date:</th>             <td>Sun, 25 Oct 2020</td> <th>  Prob (F-statistic):</th> <td>2.49e-14</td>\n",
       "</tr>\n",
       "<tr>\n",
       "  <th>Time:</th>                 <td>10:33:41</td>     <th>  Log-Likelihood:    </th> <td> -364.44</td>\n",
       "</tr>\n",
       "<tr>\n",
       "  <th>No. Observations:</th>      <td>    49</td>      <th>  AIC:               </th> <td>   736.9</td>\n",
       "</tr>\n",
       "<tr>\n",
       "  <th>Df Residuals:</th>          <td>    45</td>      <th>  BIC:               </th> <td>   744.4</td>\n",
       "</tr>\n",
       "<tr>\n",
       "  <th>Df Model:</th>              <td>     3</td>      <th>                     </th>     <td> </td>   \n",
       "</tr>\n",
       "<tr>\n",
       "  <th>Covariance Type:</th>      <td>nonrobust</td>    <th>                     </th>     <td> </td>   \n",
       "</tr>\n",
       "</table>\n",
       "<table class=\"simpletable\">\n",
       "<tr>\n",
       "      <td></td>         <th>coef</th>     <th>std err</th>      <th>t</th>      <th>P>|t|</th>  <th>[0.025</th>    <th>0.975]</th>  \n",
       "</tr>\n",
       "<tr>\n",
       "  <th>Intercept</th> <td>  333.0705</td> <td>  756.707</td> <td>    0.440</td> <td> 0.662</td> <td>-1191.017</td> <td> 1857.157</td>\n",
       "</tr>\n",
       "<tr>\n",
       "  <th>Height</th>    <td> 5720.0414</td> <td>  818.908</td> <td>    6.985</td> <td> 0.000</td> <td> 4070.677</td> <td> 7369.406</td>\n",
       "</tr>\n",
       "<tr>\n",
       "  <th>Mean_NDVI</th> <td> 3800.4075</td> <td> 2629.718</td> <td>    1.445</td> <td> 0.155</td> <td>-1496.117</td> <td> 9096.932</td>\n",
       "</tr>\n",
       "<tr>\n",
       "  <th>SD_NDVI</th>   <td>-6787.9415</td> <td> 5925.890</td> <td>   -1.145</td> <td> 0.258</td> <td>-1.87e+04</td> <td> 5147.413</td>\n",
       "</tr>\n",
       "</table>\n",
       "<table class=\"simpletable\">\n",
       "<tr>\n",
       "  <th>Omnibus:</th>       <td> 1.336</td> <th>  Durbin-Watson:     </th> <td>   1.856</td>\n",
       "</tr>\n",
       "<tr>\n",
       "  <th>Prob(Omnibus):</th> <td> 0.513</td> <th>  Jarque-Bera (JB):  </th> <td>   1.044</td>\n",
       "</tr>\n",
       "<tr>\n",
       "  <th>Skew:</th>          <td>-0.356</td> <th>  Prob(JB):          </th> <td>   0.593</td>\n",
       "</tr>\n",
       "<tr>\n",
       "  <th>Kurtosis:</th>      <td> 2.933</td> <th>  Cond. No.          </th> <td>    116.</td>\n",
       "</tr>\n",
       "</table><br/><br/>Warnings:<br/>[1] Standard Errors assume that the covariance matrix of the errors is correctly specified."
      ],
      "text/plain": [
       "<class 'statsmodels.iolib.summary.Summary'>\n",
       "\"\"\"\n",
       "                            OLS Regression Results                            \n",
       "==============================================================================\n",
       "Dep. Variable:                  Yield   R-squared:                       0.768\n",
       "Model:                            OLS   Adj. R-squared:                  0.753\n",
       "Method:                 Least Squares   F-statistic:                     49.71\n",
       "Date:                Sun, 25 Oct 2020   Prob (F-statistic):           2.49e-14\n",
       "Time:                        10:33:41   Log-Likelihood:                -364.44\n",
       "No. Observations:                  49   AIC:                             736.9\n",
       "Df Residuals:                      45   BIC:                             744.4\n",
       "Df Model:                           3                                         \n",
       "Covariance Type:            nonrobust                                         \n",
       "==============================================================================\n",
       "                 coef    std err          t      P>|t|      [0.025      0.975]\n",
       "------------------------------------------------------------------------------\n",
       "Intercept    333.0705    756.707      0.440      0.662   -1191.017    1857.157\n",
       "Height      5720.0414    818.908      6.985      0.000    4070.677    7369.406\n",
       "Mean_NDVI   3800.4075   2629.718      1.445      0.155   -1496.117    9096.932\n",
       "SD_NDVI    -6787.9415   5925.890     -1.145      0.258   -1.87e+04    5147.413\n",
       "==============================================================================\n",
       "Omnibus:                        1.336   Durbin-Watson:                   1.856\n",
       "Prob(Omnibus):                  0.513   Jarque-Bera (JB):                1.044\n",
       "Skew:                          -0.356   Prob(JB):                        0.593\n",
       "Kurtosis:                       2.933   Cond. No.                         116.\n",
       "==============================================================================\n",
       "\n",
       "Warnings:\n",
       "[1] Standard Errors assume that the covariance matrix of the errors is correctly specified.\n",
       "\"\"\""
      ]
     },
     "execution_count": 27,
     "metadata": {},
     "output_type": "execute_result"
    }
   ],
   "source": [
    "lm3.summary()"
   ]
  },
  {
   "cell_type": "markdown",
   "metadata": {},
   "source": [
    "# Linear Model 4 (Height + Mean_NDVI~ Yield)"
   ]
  },
  {
   "cell_type": "code",
   "execution_count": 28,
   "metadata": {},
   "outputs": [
    {
     "data": {
      "text/html": [
       "<table class=\"simpletable\">\n",
       "<caption>OLS Regression Results</caption>\n",
       "<tr>\n",
       "  <th>Dep. Variable:</th>          <td>Yield</td>      <th>  R-squared:         </th> <td>   0.761</td>\n",
       "</tr>\n",
       "<tr>\n",
       "  <th>Model:</th>                   <td>OLS</td>       <th>  Adj. R-squared:    </th> <td>   0.751</td>\n",
       "</tr>\n",
       "<tr>\n",
       "  <th>Method:</th>             <td>Least Squares</td>  <th>  F-statistic:       </th> <td>   73.41</td>\n",
       "</tr>\n",
       "<tr>\n",
       "  <th>Date:</th>             <td>Sun, 25 Oct 2020</td> <th>  Prob (F-statistic):</th> <td>4.85e-15</td>\n",
       "</tr>\n",
       "<tr>\n",
       "  <th>Time:</th>                 <td>10:33:44</td>     <th>  Log-Likelihood:    </th> <td> -365.14</td>\n",
       "</tr>\n",
       "<tr>\n",
       "  <th>No. Observations:</th>      <td>    49</td>      <th>  AIC:               </th> <td>   736.3</td>\n",
       "</tr>\n",
       "<tr>\n",
       "  <th>Df Residuals:</th>          <td>    46</td>      <th>  BIC:               </th> <td>   742.0</td>\n",
       "</tr>\n",
       "<tr>\n",
       "  <th>Df Model:</th>              <td>     2</td>      <th>                     </th>     <td> </td>   \n",
       "</tr>\n",
       "<tr>\n",
       "  <th>Covariance Type:</th>      <td>nonrobust</td>    <th>                     </th>     <td> </td>   \n",
       "</tr>\n",
       "</table>\n",
       "<table class=\"simpletable\">\n",
       "<tr>\n",
       "      <td></td>         <th>coef</th>     <th>std err</th>      <th>t</th>      <th>P>|t|</th>  <th>[0.025</th>    <th>0.975]</th>  \n",
       "</tr>\n",
       "<tr>\n",
       "  <th>Intercept</th> <td> -107.7975</td> <td>  653.724</td> <td>   -0.165</td> <td> 0.870</td> <td>-1423.675</td> <td> 1208.080</td>\n",
       "</tr>\n",
       "<tr>\n",
       "  <th>Height</th>    <td> 6076.5060</td> <td>  760.040</td> <td>    7.995</td> <td> 0.000</td> <td> 4546.625</td> <td> 7606.387</td>\n",
       "</tr>\n",
       "<tr>\n",
       "  <th>Mean_NDVI</th> <td> 3053.6267</td> <td> 2556.252</td> <td>    1.195</td> <td> 0.238</td> <td>-2091.843</td> <td> 8199.096</td>\n",
       "</tr>\n",
       "</table>\n",
       "<table class=\"simpletable\">\n",
       "<tr>\n",
       "  <th>Omnibus:</th>       <td> 1.169</td> <th>  Durbin-Watson:     </th> <td>   1.806</td>\n",
       "</tr>\n",
       "<tr>\n",
       "  <th>Prob(Omnibus):</th> <td> 0.557</td> <th>  Jarque-Bera (JB):  </th> <td>   0.804</td>\n",
       "</tr>\n",
       "<tr>\n",
       "  <th>Skew:</th>          <td>-0.314</td> <th>  Prob(JB):          </th> <td>   0.669</td>\n",
       "</tr>\n",
       "<tr>\n",
       "  <th>Kurtosis:</th>      <td> 3.012</td> <th>  Cond. No.          </th> <td>    51.3</td>\n",
       "</tr>\n",
       "</table><br/><br/>Warnings:<br/>[1] Standard Errors assume that the covariance matrix of the errors is correctly specified."
      ],
      "text/plain": [
       "<class 'statsmodels.iolib.summary.Summary'>\n",
       "\"\"\"\n",
       "                            OLS Regression Results                            \n",
       "==============================================================================\n",
       "Dep. Variable:                  Yield   R-squared:                       0.761\n",
       "Model:                            OLS   Adj. R-squared:                  0.751\n",
       "Method:                 Least Squares   F-statistic:                     73.41\n",
       "Date:                Sun, 25 Oct 2020   Prob (F-statistic):           4.85e-15\n",
       "Time:                        10:33:44   Log-Likelihood:                -365.14\n",
       "No. Observations:                  49   AIC:                             736.3\n",
       "Df Residuals:                      46   BIC:                             742.0\n",
       "Df Model:                           2                                         \n",
       "Covariance Type:            nonrobust                                         \n",
       "==============================================================================\n",
       "                 coef    std err          t      P>|t|      [0.025      0.975]\n",
       "------------------------------------------------------------------------------\n",
       "Intercept   -107.7975    653.724     -0.165      0.870   -1423.675    1208.080\n",
       "Height      6076.5060    760.040      7.995      0.000    4546.625    7606.387\n",
       "Mean_NDVI   3053.6267   2556.252      1.195      0.238   -2091.843    8199.096\n",
       "==============================================================================\n",
       "Omnibus:                        1.169   Durbin-Watson:                   1.806\n",
       "Prob(Omnibus):                  0.557   Jarque-Bera (JB):                0.804\n",
       "Skew:                          -0.314   Prob(JB):                        0.669\n",
       "Kurtosis:                       3.012   Cond. No.                         51.3\n",
       "==============================================================================\n",
       "\n",
       "Warnings:\n",
       "[1] Standard Errors assume that the covariance matrix of the errors is correctly specified.\n",
       "\"\"\""
      ]
     },
     "execution_count": 28,
     "metadata": {},
     "output_type": "execute_result"
    }
   ],
   "source": [
    "# create a fitted model\n",
    "lm4 = smf.ols(formula='Yield ~ Height + Mean_NDVI', data=df).fit()\n",
    "lm4.summary()"
   ]
  },
  {
   "cell_type": "markdown",
   "metadata": {},
   "source": [
    "# Linear Model 5 (Height + SD_NDVI ~ Yield)"
   ]
  },
  {
   "cell_type": "code",
   "execution_count": 29,
   "metadata": {},
   "outputs": [
    {
     "data": {
      "text/html": [
       "<table class=\"simpletable\">\n",
       "<caption>OLS Regression Results</caption>\n",
       "<tr>\n",
       "  <th>Dep. Variable:</th>          <td>Yield</td>      <th>  R-squared:         </th> <td>   0.757</td>\n",
       "</tr>\n",
       "<tr>\n",
       "  <th>Model:</th>                   <td>OLS</td>       <th>  Adj. R-squared:    </th> <td>   0.747</td>\n",
       "</tr>\n",
       "<tr>\n",
       "  <th>Method:</th>             <td>Least Squares</td>  <th>  F-statistic:       </th> <td>   71.82</td>\n",
       "</tr>\n",
       "<tr>\n",
       "  <th>Date:</th>             <td>Sun, 25 Oct 2020</td> <th>  Prob (F-statistic):</th> <td>7.10e-15</td>\n",
       "</tr>\n",
       "<tr>\n",
       "  <th>Time:</th>                 <td>10:33:47</td>     <th>  Log-Likelihood:    </th> <td> -365.55</td>\n",
       "</tr>\n",
       "<tr>\n",
       "  <th>No. Observations:</th>      <td>    49</td>      <th>  AIC:               </th> <td>   737.1</td>\n",
       "</tr>\n",
       "<tr>\n",
       "  <th>Df Residuals:</th>          <td>    46</td>      <th>  BIC:               </th> <td>   742.8</td>\n",
       "</tr>\n",
       "<tr>\n",
       "  <th>Df Model:</th>              <td>     2</td>      <th>                     </th>     <td> </td>   \n",
       "</tr>\n",
       "<tr>\n",
       "  <th>Covariance Type:</th>      <td>nonrobust</td>    <th>                     </th>     <td> </td>   \n",
       "</tr>\n",
       "</table>\n",
       "<table class=\"simpletable\">\n",
       "<tr>\n",
       "      <td></td>         <th>coef</th>     <th>std err</th>      <th>t</th>      <th>P>|t|</th>  <th>[0.025</th>    <th>0.975]</th>  \n",
       "</tr>\n",
       "<tr>\n",
       "  <th>Intercept</th> <td> 1006.8718</td> <td>  603.018</td> <td>    1.670</td> <td> 0.102</td> <td> -206.941</td> <td> 2220.685</td>\n",
       "</tr>\n",
       "<tr>\n",
       "  <th>Height</th>    <td> 6555.5372</td> <td>  586.804</td> <td>   11.172</td> <td> 0.000</td> <td> 5374.362</td> <td> 7736.712</td>\n",
       "</tr>\n",
       "<tr>\n",
       "  <th>SD_NDVI</th>   <td>-4664.8245</td> <td> 5808.426</td> <td>   -0.803</td> <td> 0.426</td> <td>-1.64e+04</td> <td> 7026.930</td>\n",
       "</tr>\n",
       "</table>\n",
       "<table class=\"simpletable\">\n",
       "<tr>\n",
       "  <th>Omnibus:</th>       <td> 1.859</td> <th>  Durbin-Watson:     </th> <td>   1.868</td>\n",
       "</tr>\n",
       "<tr>\n",
       "  <th>Prob(Omnibus):</th> <td> 0.395</td> <th>  Jarque-Bera (JB):  </th> <td>   1.455</td>\n",
       "</tr>\n",
       "<tr>\n",
       "  <th>Skew:</th>          <td>-0.422</td> <th>  Prob(JB):          </th> <td>   0.483</td>\n",
       "</tr>\n",
       "<tr>\n",
       "  <th>Kurtosis:</th>      <td> 2.973</td> <th>  Cond. No.          </th> <td>    107.</td>\n",
       "</tr>\n",
       "</table><br/><br/>Warnings:<br/>[1] Standard Errors assume that the covariance matrix of the errors is correctly specified."
      ],
      "text/plain": [
       "<class 'statsmodels.iolib.summary.Summary'>\n",
       "\"\"\"\n",
       "                            OLS Regression Results                            \n",
       "==============================================================================\n",
       "Dep. Variable:                  Yield   R-squared:                       0.757\n",
       "Model:                            OLS   Adj. R-squared:                  0.747\n",
       "Method:                 Least Squares   F-statistic:                     71.82\n",
       "Date:                Sun, 25 Oct 2020   Prob (F-statistic):           7.10e-15\n",
       "Time:                        10:33:47   Log-Likelihood:                -365.55\n",
       "No. Observations:                  49   AIC:                             737.1\n",
       "Df Residuals:                      46   BIC:                             742.8\n",
       "Df Model:                           2                                         \n",
       "Covariance Type:            nonrobust                                         \n",
       "==============================================================================\n",
       "                 coef    std err          t      P>|t|      [0.025      0.975]\n",
       "------------------------------------------------------------------------------\n",
       "Intercept   1006.8718    603.018      1.670      0.102    -206.941    2220.685\n",
       "Height      6555.5372    586.804     11.172      0.000    5374.362    7736.712\n",
       "SD_NDVI    -4664.8245   5808.426     -0.803      0.426   -1.64e+04    7026.930\n",
       "==============================================================================\n",
       "Omnibus:                        1.859   Durbin-Watson:                   1.868\n",
       "Prob(Omnibus):                  0.395   Jarque-Bera (JB):                1.455\n",
       "Skew:                          -0.422   Prob(JB):                        0.483\n",
       "Kurtosis:                       2.973   Cond. No.                         107.\n",
       "==============================================================================\n",
       "\n",
       "Warnings:\n",
       "[1] Standard Errors assume that the covariance matrix of the errors is correctly specified.\n",
       "\"\"\""
      ]
     },
     "execution_count": 29,
     "metadata": {},
     "output_type": "execute_result"
    }
   ],
   "source": [
    "# create a fitted model\n",
    "lm5 = smf.ols(formula='Yield ~ Height + SD_NDVI', data=df).fit()\n",
    "lm5.summary()"
   ]
  },
  {
   "cell_type": "code",
   "execution_count": null,
   "metadata": {},
   "outputs": [],
   "source": []
  }
 ],
 "metadata": {
  "kernelspec": {
   "display_name": "Python 3",
   "language": "python",
   "name": "python3"
  },
  "language_info": {
   "codemirror_mode": {
    "name": "ipython",
    "version": 3
   },
   "file_extension": ".py",
   "mimetype": "text/x-python",
   "name": "python",
   "nbconvert_exporter": "python",
   "pygments_lexer": "ipython3",
   "version": "3.7.4"
  }
 },
 "nbformat": 4,
 "nbformat_minor": 4
}
