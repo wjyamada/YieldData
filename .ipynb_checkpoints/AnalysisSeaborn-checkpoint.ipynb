{
 "cells": [
  {
   "cell_type": "code",
   "execution_count": 1,
   "metadata": {},
   "outputs": [],
   "source": [
    "import pandas as pd\n",
    "import numpy as np\n",
    "import matplotlib.pyplot as plt\n",
    "import seaborn as sns\n",
    "import statsmodels.formula.api as smf\n",
    "from sklearn.linear_model import LinearRegression\n",
    "from sklearn import metrics\n",
    "%matplotlib inline"
   ]
  },
  {
   "cell_type": "code",
   "execution_count": 2,
   "metadata": {},
   "outputs": [
    {
     "data": {
      "text/html": [
       "<div>\n",
       "<style scoped>\n",
       "    .dataframe tbody tr th:only-of-type {\n",
       "        vertical-align: middle;\n",
       "    }\n",
       "\n",
       "    .dataframe tbody tr th {\n",
       "        vertical-align: top;\n",
       "    }\n",
       "\n",
       "    .dataframe thead th {\n",
       "        text-align: right;\n",
       "    }\n",
       "</style>\n",
       "<table border=\"1\" class=\"dataframe\">\n",
       "  <thead>\n",
       "    <tr style=\"text-align: right;\">\n",
       "      <th></th>\n",
       "      <th>Date</th>\n",
       "      <th>GCP</th>\n",
       "      <th>Northing</th>\n",
       "      <th>Easting</th>\n",
       "      <th>Elevation</th>\n",
       "      <th>Latitude DD.DD</th>\n",
       "      <th>Longitude DD.DD</th>\n",
       "      <th>Height</th>\n",
       "      <th>Yield</th>\n",
       "      <th>Moisture</th>\n",
       "      <th>Mean_NDVI</th>\n",
       "      <th>SD_NDVI</th>\n",
       "    </tr>\n",
       "  </thead>\n",
       "  <tbody>\n",
       "    <tr>\n",
       "      <th>0</th>\n",
       "      <td>5/28/2019</td>\n",
       "      <td>T1</td>\n",
       "      <td>3077.3726</td>\n",
       "      <td>3061.3572</td>\n",
       "      <td>33.7142</td>\n",
       "      <td>43.3149</td>\n",
       "      <td>-89.3330</td>\n",
       "      <td>0.48</td>\n",
       "      <td>3930</td>\n",
       "      <td>84.4</td>\n",
       "      <td>0.280772</td>\n",
       "      <td>0.045344</td>\n",
       "    </tr>\n",
       "    <tr>\n",
       "      <th>1</th>\n",
       "      <td>5/28/2019</td>\n",
       "      <td>T2</td>\n",
       "      <td>3137.4370</td>\n",
       "      <td>3060.6171</td>\n",
       "      <td>32.8211</td>\n",
       "      <td>43.3155</td>\n",
       "      <td>-89.3330</td>\n",
       "      <td>0.47</td>\n",
       "      <td>3088</td>\n",
       "      <td>85.4</td>\n",
       "      <td>0.280200</td>\n",
       "      <td>0.064424</td>\n",
       "    </tr>\n",
       "    <tr>\n",
       "      <th>2</th>\n",
       "      <td>5/28/2019</td>\n",
       "      <td>T3</td>\n",
       "      <td>3078.2725</td>\n",
       "      <td>2982.3921</td>\n",
       "      <td>34.7905</td>\n",
       "      <td>43.3150</td>\n",
       "      <td>-89.3340</td>\n",
       "      <td>0.42</td>\n",
       "      <td>3578</td>\n",
       "      <td>82.6</td>\n",
       "      <td>0.276925</td>\n",
       "      <td>0.059429</td>\n",
       "    </tr>\n",
       "    <tr>\n",
       "      <th>3</th>\n",
       "      <td>5/28/2019</td>\n",
       "      <td>T4</td>\n",
       "      <td>3137.5043</td>\n",
       "      <td>2986.0653</td>\n",
       "      <td>33.2757</td>\n",
       "      <td>43.3155</td>\n",
       "      <td>-89.3339</td>\n",
       "      <td>0.41</td>\n",
       "      <td>3972</td>\n",
       "      <td>86.7</td>\n",
       "      <td>0.300764</td>\n",
       "      <td>0.056162</td>\n",
       "    </tr>\n",
       "    <tr>\n",
       "      <th>4</th>\n",
       "      <td>5/28/2019</td>\n",
       "      <td>T5</td>\n",
       "      <td>3106.5656</td>\n",
       "      <td>3029.7739</td>\n",
       "      <td>33.4311</td>\n",
       "      <td>43.3152</td>\n",
       "      <td>-89.3334</td>\n",
       "      <td>0.46</td>\n",
       "      <td>3494</td>\n",
       "      <td>85.6</td>\n",
       "      <td>0.266040</td>\n",
       "      <td>0.045340</td>\n",
       "    </tr>\n",
       "  </tbody>\n",
       "</table>\n",
       "</div>"
      ],
      "text/plain": [
       "        Date GCP   Northing    Easting  Elevation  Latitude DD.DD  \\\n",
       "0  5/28/2019  T1  3077.3726  3061.3572    33.7142         43.3149   \n",
       "1  5/28/2019  T2  3137.4370  3060.6171    32.8211         43.3155   \n",
       "2  5/28/2019  T3  3078.2725  2982.3921    34.7905         43.3150   \n",
       "3  5/28/2019  T4  3137.5043  2986.0653    33.2757         43.3155   \n",
       "4  5/28/2019  T5  3106.5656  3029.7739    33.4311         43.3152   \n",
       "\n",
       "   Longitude DD.DD  Height  Yield  Moisture  Mean_NDVI   SD_NDVI  \n",
       "0         -89.3330    0.48   3930      84.4   0.280772  0.045344  \n",
       "1         -89.3330    0.47   3088      85.4   0.280200  0.064424  \n",
       "2         -89.3340    0.42   3578      82.6   0.276925  0.059429  \n",
       "3         -89.3339    0.41   3972      86.7   0.300764  0.056162  \n",
       "4         -89.3334    0.46   3494      85.6   0.266040  0.045340  "
      ]
     },
     "execution_count": 2,
     "metadata": {},
     "output_type": "execute_result"
    }
   ],
   "source": [
    "# Read Data\n",
    "\n",
    "df = pd.read_csv(\"UWYieldDataNDVI.csv\")\n",
    "df['Moisture Content, w.b. %'] = df['Moisture Content, w.b. %'].str.rstrip('%').astype('float')\n",
    "df = df.drop(df[df['Mean_NDVI']==0].index).drop(df[df['Yield, kg DM/ha']>=6500].index)\n",
    "df = df.rename(columns={\"Crop Height, m\": \"Height\", \"Moisture Content, w.b. %\": \"Moisture\", \"Yield, kg DM/ha\":\"Yield\"})\n",
    "df.head()"
   ]
  },
  {
   "cell_type": "markdown",
   "metadata": {},
   "source": [
    "Plotting the data"
   ]
  },
  {
   "cell_type": "code",
   "execution_count": 6,
   "metadata": {
    "scrolled": false
   },
   "outputs": [
    {
     "data": {
      "text/plain": [
       "<seaborn.axisgrid.PairGrid at 0x7f628533c310>"
      ]
     },
     "execution_count": 6,
     "metadata": {},
     "output_type": "execute_result"
    },
    {
     "data": {
      "image/png": "[encoded data removed]",
      "text/plain": [
       "<Figure size 1764x504 with 5 Axes>"
      ]
     },
     "metadata": {
      "needs_background": "light"
     },
     "output_type": "display_data"
    }
   ],
   "source": [
    "var_interest = ['Date','Height','Moisture','Mean_NDVI','SD_NDVI']\n",
    "sns.pairplot(df, x_vars= var_interest, y_vars='Yield', height=7, aspect=0.7)"
   ]
  },
  {
   "cell_type": "markdown",
   "metadata": {},
   "source": [
    "Plotting the data containing the 95% CI"
   ]
  },
  {
   "cell_type": "code",
   "execution_count": 11,
   "metadata": {
    "scrolled": false
   },
   "outputs": [
    {
     "data": {
      "text/plain": [
       "<seaborn.axisgrid.PairGrid at 0x7f627ee73e20>"
      ]
     },
     "execution_count": 11,
     "metadata": {},
     "output_type": "execute_result"
    },
    {
     "data": {
      "image/png": "[encoded data removed]",
      "text/plain": [
       "<Figure size 1764x504 with 5 Axes>"
      ]
     },
     "metadata": {
      "needs_background": "light"
     },
     "output_type": "display_data"
    }
   ],
   "source": [
    "sns.pairplot(df, x_vars=var_interest, y_vars='Yield', height=7, aspect=0.7, kind='reg')"
   ]
  },
  {
   "cell_type": "markdown",
   "metadata": {},
   "source": [
    "# Linear Model 1 (Mean NDVI + SD NDVI ~ Yield)\n",
    "Creating linear regression with Mean and SD from NDVI"
   ]
  },
  {
   "cell_type": "code",
   "execution_count": 48,
   "metadata": {},
   "outputs": [
    {
     "data": {
      "text/plain": [
       "Intercept      785.631780\n",
       "Mean_NDVI    14932.934971\n",
       "SD_NDVI     -22463.650801\n",
       "dtype: float64"
      ]
     },
     "execution_count": 48,
     "metadata": {},
     "output_type": "execute_result"
    }
   ],
   "source": [
    "### STATSMODELS ###\n",
    "\n",
    "# create a fitted model\n",
    "lm1 = smf.ols(formula='Yield ~ Mean_NDVI + SD_NDVI', data=df).fit()\n",
    "\n",
    "# print the coefficients\n",
    "lm1.params"
   ]
  },
  {
   "cell_type": "code",
   "execution_count": 49,
   "metadata": {},
   "outputs": [
    {
     "data": {
      "text/html": [
       "<table class=\"simpletable\">\n",
       "<caption>OLS Regression Results</caption>\n",
       "<tr>\n",
       "  <th>Dep. Variable:</th>          <td>Yield</td>      <th>  R-squared:         </th> <td>   0.397</td>\n",
       "</tr>\n",
       "<tr>\n",
       "  <th>Model:</th>                   <td>OLS</td>       <th>  Adj. R-squared:    </th> <td>   0.376</td>\n",
       "</tr>\n",
       "<tr>\n",
       "  <th>Method:</th>             <td>Least Squares</td>  <th>  F-statistic:       </th> <td>   19.07</td>\n",
       "</tr>\n",
       "<tr>\n",
       "  <th>Date:</th>             <td>Mon, 12 Oct 2020</td> <th>  Prob (F-statistic):</th> <td>4.32e-07</td>\n",
       "</tr>\n",
       "<tr>\n",
       "  <th>Time:</th>                 <td>14:55:53</td>     <th>  Log-Likelihood:    </th> <td> -483.81</td>\n",
       "</tr>\n",
       "<tr>\n",
       "  <th>No. Observations:</th>      <td>    61</td>      <th>  AIC:               </th> <td>   973.6</td>\n",
       "</tr>\n",
       "<tr>\n",
       "  <th>Df Residuals:</th>          <td>    58</td>      <th>  BIC:               </th> <td>   979.9</td>\n",
       "</tr>\n",
       "<tr>\n",
       "  <th>Df Model:</th>              <td>     2</td>      <th>                     </th>     <td> </td>   \n",
       "</tr>\n",
       "<tr>\n",
       "  <th>Covariance Type:</th>      <td>nonrobust</td>    <th>                     </th>     <td> </td>   \n",
       "</tr>\n",
       "</table>\n",
       "<table class=\"simpletable\">\n",
       "<tr>\n",
       "      <td></td>         <th>coef</th>     <th>std err</th>      <th>t</th>      <th>P>|t|</th>  <th>[0.025</th>    <th>0.975]</th>  \n",
       "</tr>\n",
       "<tr>\n",
       "  <th>Intercept</th> <td>  785.6318</td> <td>  905.510</td> <td>    0.868</td> <td> 0.389</td> <td>-1026.944</td> <td> 2598.208</td>\n",
       "</tr>\n",
       "<tr>\n",
       "  <th>Mean_NDVI</th> <td> 1.493e+04</td> <td> 2598.276</td> <td>    5.747</td> <td> 0.000</td> <td> 9731.920</td> <td> 2.01e+04</td>\n",
       "</tr>\n",
       "<tr>\n",
       "  <th>SD_NDVI</th>   <td>-2.246e+04</td> <td> 6817.983</td> <td>   -3.295</td> <td> 0.002</td> <td>-3.61e+04</td> <td>-8815.975</td>\n",
       "</tr>\n",
       "</table>\n",
       "<table class=\"simpletable\">\n",
       "<tr>\n",
       "  <th>Omnibus:</th>       <td> 2.107</td> <th>  Durbin-Watson:     </th> <td>   1.690</td>\n",
       "</tr>\n",
       "<tr>\n",
       "  <th>Prob(Omnibus):</th> <td> 0.349</td> <th>  Jarque-Bera (JB):  </th> <td>   2.028</td>\n",
       "</tr>\n",
       "<tr>\n",
       "  <th>Skew:</th>          <td>-0.425</td> <th>  Prob(JB):          </th> <td>   0.363</td>\n",
       "</tr>\n",
       "<tr>\n",
       "  <th>Kurtosis:</th>      <td> 2.723</td> <th>  Cond. No.          </th> <td>    81.7</td>\n",
       "</tr>\n",
       "</table><br/><br/>Notes:<br/>[1] Standard Errors assume that the covariance matrix of the errors is correctly specified."
      ],
      "text/plain": [
       "<class 'statsmodels.iolib.summary.Summary'>\n",
       "\"\"\"\n",
       "                            OLS Regression Results                            \n",
       "==============================================================================\n",
       "Dep. Variable:                  Yield   R-squared:                       0.397\n",
       "Model:                            OLS   Adj. R-squared:                  0.376\n",
       "Method:                 Least Squares   F-statistic:                     19.07\n",
       "Date:                Mon, 12 Oct 2020   Prob (F-statistic):           4.32e-07\n",
       "Time:                        14:55:53   Log-Likelihood:                -483.81\n",
       "No. Observations:                  61   AIC:                             973.6\n",
       "Df Residuals:                      58   BIC:                             979.9\n",
       "Df Model:                           2                                         \n",
       "Covariance Type:            nonrobust                                         \n",
       "==============================================================================\n",
       "                 coef    std err          t      P>|t|      [0.025      0.975]\n",
       "------------------------------------------------------------------------------\n",
       "Intercept    785.6318    905.510      0.868      0.389   -1026.944    2598.208\n",
       "Mean_NDVI   1.493e+04   2598.276      5.747      0.000    9731.920    2.01e+04\n",
       "SD_NDVI    -2.246e+04   6817.983     -3.295      0.002   -3.61e+04   -8815.975\n",
       "==============================================================================\n",
       "Omnibus:                        2.107   Durbin-Watson:                   1.690\n",
       "Prob(Omnibus):                  0.349   Jarque-Bera (JB):                2.028\n",
       "Skew:                          -0.425   Prob(JB):                        0.363\n",
       "Kurtosis:                       2.723   Cond. No.                         81.7\n",
       "==============================================================================\n",
       "\n",
       "Notes:\n",
       "[1] Standard Errors assume that the covariance matrix of the errors is correctly specified.\n",
       "\"\"\""
      ]
     },
     "execution_count": 49,
     "metadata": {},
     "output_type": "execute_result"
    }
   ],
   "source": [
    "lm1.summary()"
   ]
  },
  {
   "cell_type": "markdown",
   "metadata": {},
   "source": [
    "# Linear Model 2 (Height ~ Yield)\n",
    "\n",
    "Creating model with only Height to predict Yield"
   ]
  },
  {
   "cell_type": "code",
   "execution_count": 50,
   "metadata": {},
   "outputs": [
    {
     "data": {
      "text/plain": [
       "Intercept     545.381370\n",
       "Height       6753.193891\n",
       "dtype: float64"
      ]
     },
     "execution_count": 50,
     "metadata": {},
     "output_type": "execute_result"
    }
   ],
   "source": [
    "# create a fitted model\n",
    "lm2 = smf.ols(formula='Yield ~ Height', data=df).fit()\n",
    "\n",
    "# print the coefficients\n",
    "lm2.params"
   ]
  },
  {
   "cell_type": "code",
   "execution_count": 51,
   "metadata": {
    "scrolled": false
   },
   "outputs": [
    {
     "data": {
      "text/html": [
       "<table class=\"simpletable\">\n",
       "<caption>OLS Regression Results</caption>\n",
       "<tr>\n",
       "  <th>Dep. Variable:</th>          <td>Yield</td>      <th>  R-squared:         </th> <td>   0.747</td>\n",
       "</tr>\n",
       "<tr>\n",
       "  <th>Model:</th>                   <td>OLS</td>       <th>  Adj. R-squared:    </th> <td>   0.743</td>\n",
       "</tr>\n",
       "<tr>\n",
       "  <th>Method:</th>             <td>Least Squares</td>  <th>  F-statistic:       </th> <td>   174.2</td>\n",
       "</tr>\n",
       "<tr>\n",
       "  <th>Date:</th>             <td>Mon, 12 Oct 2020</td> <th>  Prob (F-statistic):</th> <td>2.94e-19</td>\n",
       "</tr>\n",
       "<tr>\n",
       "  <th>Time:</th>                 <td>15:00:19</td>     <th>  Log-Likelihood:    </th> <td> -457.30</td>\n",
       "</tr>\n",
       "<tr>\n",
       "  <th>No. Observations:</th>      <td>    61</td>      <th>  AIC:               </th> <td>   918.6</td>\n",
       "</tr>\n",
       "<tr>\n",
       "  <th>Df Residuals:</th>          <td>    59</td>      <th>  BIC:               </th> <td>   922.8</td>\n",
       "</tr>\n",
       "<tr>\n",
       "  <th>Df Model:</th>              <td>     1</td>      <th>                     </th>     <td> </td>   \n",
       "</tr>\n",
       "<tr>\n",
       "  <th>Covariance Type:</th>      <td>nonrobust</td>    <th>                     </th>     <td> </td>   \n",
       "</tr>\n",
       "</table>\n",
       "<table class=\"simpletable\">\n",
       "<tr>\n",
       "      <td></td>         <th>coef</th>     <th>std err</th>      <th>t</th>      <th>P>|t|</th>  <th>[0.025</th>    <th>0.975]</th>  \n",
       "</tr>\n",
       "<tr>\n",
       "  <th>Intercept</th> <td>  545.3814</td> <td>  274.439</td> <td>    1.987</td> <td> 0.052</td> <td>   -3.769</td> <td> 1094.532</td>\n",
       "</tr>\n",
       "<tr>\n",
       "  <th>Height</th>    <td> 6753.1939</td> <td>  511.673</td> <td>   13.198</td> <td> 0.000</td> <td> 5729.338</td> <td> 7777.050</td>\n",
       "</tr>\n",
       "</table>\n",
       "<table class=\"simpletable\">\n",
       "<tr>\n",
       "  <th>Omnibus:</th>       <td> 0.207</td> <th>  Durbin-Watson:     </th> <td>   1.724</td>\n",
       "</tr>\n",
       "<tr>\n",
       "  <th>Prob(Omnibus):</th> <td> 0.901</td> <th>  Jarque-Bera (JB):  </th> <td>   0.284</td>\n",
       "</tr>\n",
       "<tr>\n",
       "  <th>Skew:</th>          <td>-0.130</td> <th>  Prob(JB):          </th> <td>   0.867</td>\n",
       "</tr>\n",
       "<tr>\n",
       "  <th>Kurtosis:</th>      <td> 2.790</td> <th>  Cond. No.          </th> <td>    11.5</td>\n",
       "</tr>\n",
       "</table><br/><br/>Notes:<br/>[1] Standard Errors assume that the covariance matrix of the errors is correctly specified."
      ],
      "text/plain": [
       "<class 'statsmodels.iolib.summary.Summary'>\n",
       "\"\"\"\n",
       "                            OLS Regression Results                            \n",
       "==============================================================================\n",
       "Dep. Variable:                  Yield   R-squared:                       0.747\n",
       "Model:                            OLS   Adj. R-squared:                  0.743\n",
       "Method:                 Least Squares   F-statistic:                     174.2\n",
       "Date:                Mon, 12 Oct 2020   Prob (F-statistic):           2.94e-19\n",
       "Time:                        15:00:19   Log-Likelihood:                -457.30\n",
       "No. Observations:                  61   AIC:                             918.6\n",
       "Df Residuals:                      59   BIC:                             922.8\n",
       "Df Model:                           1                                         \n",
       "Covariance Type:            nonrobust                                         \n",
       "==============================================================================\n",
       "                 coef    std err          t      P>|t|      [0.025      0.975]\n",
       "------------------------------------------------------------------------------\n",
       "Intercept    545.3814    274.439      1.987      0.052      -3.769    1094.532\n",
       "Height      6753.1939    511.673     13.198      0.000    5729.338    7777.050\n",
       "==============================================================================\n",
       "Omnibus:                        0.207   Durbin-Watson:                   1.724\n",
       "Prob(Omnibus):                  0.901   Jarque-Bera (JB):                0.284\n",
       "Skew:                          -0.130   Prob(JB):                        0.867\n",
       "Kurtosis:                       2.790   Cond. No.                         11.5\n",
       "==============================================================================\n",
       "\n",
       "Notes:\n",
       "[1] Standard Errors assume that the covariance matrix of the errors is correctly specified.\n",
       "\"\"\""
      ]
     },
     "execution_count": 51,
     "metadata": {},
     "output_type": "execute_result"
    }
   ],
   "source": [
    "lm2.summary()"
   ]
  },
  {
   "cell_type": "markdown",
   "metadata": {},
   "source": [
    "# Linear Model 3 (Height + Mean_NDVI + SD_NDVI ~ Yield)\n",
    "\n",
    "Creating model with only Height to predict Yield"
   ]
  },
  {
   "cell_type": "code",
   "execution_count": 52,
   "metadata": {},
   "outputs": [
    {
     "data": {
      "text/plain": [
       "Intercept     606.177133\n",
       "Height       6317.672549\n",
       "Mean_NDVI    1662.761218\n",
       "SD_NDVI     -5297.889296\n",
       "dtype: float64"
      ]
     },
     "execution_count": 52,
     "metadata": {},
     "output_type": "execute_result"
    }
   ],
   "source": [
    "# create a fitted model\n",
    "lm3 = smf.ols(formula='Yield ~ Height + Mean_NDVI + SD_NDVI', data=df).fit()\n",
    "\n",
    "# print the coefficients\n",
    "lm3.params"
   ]
  },
  {
   "cell_type": "code",
   "execution_count": 53,
   "metadata": {
    "scrolled": false
   },
   "outputs": [
    {
     "data": {
      "text/html": [
       "<table class=\"simpletable\">\n",
       "<caption>OLS Regression Results</caption>\n",
       "<tr>\n",
       "  <th>Dep. Variable:</th>          <td>Yield</td>      <th>  R-squared:         </th> <td>   0.753</td>\n",
       "</tr>\n",
       "<tr>\n",
       "  <th>Model:</th>                   <td>OLS</td>       <th>  Adj. R-squared:    </th> <td>   0.740</td>\n",
       "</tr>\n",
       "<tr>\n",
       "  <th>Method:</th>             <td>Least Squares</td>  <th>  F-statistic:       </th> <td>   57.86</td>\n",
       "</tr>\n",
       "<tr>\n",
       "  <th>Date:</th>             <td>Mon, 12 Oct 2020</td> <th>  Prob (F-statistic):</th> <td>2.68e-17</td>\n",
       "</tr>\n",
       "<tr>\n",
       "  <th>Time:</th>                 <td>15:06:23</td>     <th>  Log-Likelihood:    </th> <td> -456.59</td>\n",
       "</tr>\n",
       "<tr>\n",
       "  <th>No. Observations:</th>      <td>    61</td>      <th>  AIC:               </th> <td>   921.2</td>\n",
       "</tr>\n",
       "<tr>\n",
       "  <th>Df Residuals:</th>          <td>    57</td>      <th>  BIC:               </th> <td>   929.6</td>\n",
       "</tr>\n",
       "<tr>\n",
       "  <th>Df Model:</th>              <td>     3</td>      <th>                     </th>     <td> </td>   \n",
       "</tr>\n",
       "<tr>\n",
       "  <th>Covariance Type:</th>      <td>nonrobust</td>    <th>                     </th>     <td> </td>   \n",
       "</tr>\n",
       "</table>\n",
       "<table class=\"simpletable\">\n",
       "<tr>\n",
       "      <td></td>         <th>coef</th>     <th>std err</th>      <th>t</th>      <th>P>|t|</th>  <th>[0.025</th>    <th>0.975]</th>  \n",
       "</tr>\n",
       "<tr>\n",
       "  <th>Intercept</th> <td>  606.1771</td> <td>  585.021</td> <td>    1.036</td> <td> 0.305</td> <td> -565.307</td> <td> 1777.662</td>\n",
       "</tr>\n",
       "<tr>\n",
       "  <th>Height</th>    <td> 6317.6725</td> <td>  697.187</td> <td>    9.062</td> <td> 0.000</td> <td> 4921.580</td> <td> 7713.765</td>\n",
       "</tr>\n",
       "<tr>\n",
       "  <th>Mean_NDVI</th> <td> 1662.7612</td> <td> 2226.934</td> <td>    0.747</td> <td> 0.458</td> <td>-2796.597</td> <td> 6122.119</td>\n",
       "</tr>\n",
       "<tr>\n",
       "  <th>SD_NDVI</th>   <td>-5297.8893</td> <td> 4792.619</td> <td>   -1.105</td> <td> 0.274</td> <td>-1.49e+04</td> <td> 4299.165</td>\n",
       "</tr>\n",
       "</table>\n",
       "<table class=\"simpletable\">\n",
       "<tr>\n",
       "  <th>Omnibus:</th>       <td> 0.608</td> <th>  Durbin-Watson:     </th> <td>   1.609</td>\n",
       "</tr>\n",
       "<tr>\n",
       "  <th>Prob(Omnibus):</th> <td> 0.738</td> <th>  Jarque-Bera (JB):  </th> <td>   0.684</td>\n",
       "</tr>\n",
       "<tr>\n",
       "  <th>Skew:</th>          <td>-0.220</td> <th>  Prob(JB):          </th> <td>   0.710</td>\n",
       "</tr>\n",
       "<tr>\n",
       "  <th>Kurtosis:</th>      <td> 2.725</td> <th>  Cond. No.          </th> <td>    101.</td>\n",
       "</tr>\n",
       "</table><br/><br/>Notes:<br/>[1] Standard Errors assume that the covariance matrix of the errors is correctly specified."
      ],
      "text/plain": [
       "<class 'statsmodels.iolib.summary.Summary'>\n",
       "\"\"\"\n",
       "                            OLS Regression Results                            \n",
       "==============================================================================\n",
       "Dep. Variable:                  Yield   R-squared:                       0.753\n",
       "Model:                            OLS   Adj. R-squared:                  0.740\n",
       "Method:                 Least Squares   F-statistic:                     57.86\n",
       "Date:                Mon, 12 Oct 2020   Prob (F-statistic):           2.68e-17\n",
       "Time:                        15:06:23   Log-Likelihood:                -456.59\n",
       "No. Observations:                  61   AIC:                             921.2\n",
       "Df Residuals:                      57   BIC:                             929.6\n",
       "Df Model:                           3                                         \n",
       "Covariance Type:            nonrobust                                         \n",
       "==============================================================================\n",
       "                 coef    std err          t      P>|t|      [0.025      0.975]\n",
       "------------------------------------------------------------------------------\n",
       "Intercept    606.1771    585.021      1.036      0.305    -565.307    1777.662\n",
       "Height      6317.6725    697.187      9.062      0.000    4921.580    7713.765\n",
       "Mean_NDVI   1662.7612   2226.934      0.747      0.458   -2796.597    6122.119\n",
       "SD_NDVI    -5297.8893   4792.619     -1.105      0.274   -1.49e+04    4299.165\n",
       "==============================================================================\n",
       "Omnibus:                        0.608   Durbin-Watson:                   1.609\n",
       "Prob(Omnibus):                  0.738   Jarque-Bera (JB):                0.684\n",
       "Skew:                          -0.220   Prob(JB):                        0.710\n",
       "Kurtosis:                       2.725   Cond. No.                         101.\n",
       "==============================================================================\n",
       "\n",
       "Notes:\n",
       "[1] Standard Errors assume that the covariance matrix of the errors is correctly specified.\n",
       "\"\"\""
      ]
     },
     "execution_count": 53,
     "metadata": {},
     "output_type": "execute_result"
    }
   ],
   "source": [
    "lm3.summary()"
   ]
  },
  {
   "cell_type": "markdown",
   "metadata": {},
   "source": [
    "# Linear Model 4 (Height + Mean_NDVI~ Yield)"
   ]
  },
  {
   "cell_type": "code",
   "execution_count": 1,
   "metadata": {},
   "outputs": [
    {
     "ename": "NameError",
     "evalue": "name 'smf' is not defined",
     "output_type": "error",
     "traceback": [
      "\u001b[0;31m---------------------------------------------------------------------------\u001b[0m",
      "\u001b[0;31mNameError\u001b[0m                                 Traceback (most recent call last)",
      "\u001b[0;32m<ipython-input-1-f38a385a7325>\u001b[0m in \u001b[0;36m<module>\u001b[0;34m\u001b[0m\n\u001b[1;32m      1\u001b[0m \u001b[0;31m# create a fitted model\u001b[0m\u001b[0;34m\u001b[0m\u001b[0;34m\u001b[0m\u001b[0;34m\u001b[0m\u001b[0m\n\u001b[0;32m----> 2\u001b[0;31m \u001b[0mlm4\u001b[0m \u001b[0;34m=\u001b[0m \u001b[0msmf\u001b[0m\u001b[0;34m.\u001b[0m\u001b[0mols\u001b[0m\u001b[0;34m(\u001b[0m\u001b[0mformula\u001b[0m\u001b[0;34m=\u001b[0m\u001b[0;34m'Yield ~ Height + Mean_NDVI'\u001b[0m\u001b[0;34m,\u001b[0m \u001b[0mdata\u001b[0m\u001b[0;34m=\u001b[0m\u001b[0mdf\u001b[0m\u001b[0;34m)\u001b[0m\u001b[0;34m.\u001b[0m\u001b[0mfit\u001b[0m\u001b[0;34m(\u001b[0m\u001b[0;34m)\u001b[0m\u001b[0;34m\u001b[0m\u001b[0;34m\u001b[0m\u001b[0m\n\u001b[0m\u001b[1;32m      3\u001b[0m \u001b[0mlm4\u001b[0m\u001b[0;34m.\u001b[0m\u001b[0msummary\u001b[0m\u001b[0;34m(\u001b[0m\u001b[0;34m)\u001b[0m\u001b[0;34m\u001b[0m\u001b[0;34m\u001b[0m\u001b[0m\n",
      "\u001b[0;31mNameError\u001b[0m: name 'smf' is not defined"
     ]
    }
   ],
   "source": [
    "# create a fitted model\n",
    "lm4 = smf.ols(formula='Yield ~ Height + Mean_NDVI', data=df).fit()\n",
    "lm4.summary()"
   ]
  },
  {
   "cell_type": "markdown",
   "metadata": {},
   "source": [
    "# Linear Model 5 (Height + SD_NDVI ~ Yield)"
   ]
  },
  {
   "cell_type": "code",
   "execution_count": null,
   "metadata": {},
   "outputs": [],
   "source": [
    "# create a fitted model\n",
    "lm5 = smf.ols(formula='Yield ~ Height + SD_NDVI', data=df).fit()\n",
    "lm5.summary()"
   ]
  }
 ],
 "metadata": {
  "kernelspec": {
   "display_name": "Python 3",
   "language": "python",
   "name": "python3"
  },
  "language_info": {
   "codemirror_mode": {
    "name": "ipython",
    "version": 3
   },
   "file_extension": ".py",
   "mimetype": "text/x-python",
   "name": "python",
   "nbconvert_exporter": "python",
   "pygments_lexer": "ipython3",
   "version": "3.8.1"
  }
 },
 "nbformat": 4,
 "nbformat_minor": 4
}
